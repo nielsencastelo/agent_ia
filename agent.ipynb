{
 "cells": [
  {
   "cell_type": "code",
   "execution_count": null,
   "metadata": {},
   "outputs": [],
   "source": [
    "# ! pip install duckduckgo-search beautifulsoup4 requests\n",
    "# ! pip install langchain duckduckgo-search ollama"
   ]
  },
  {
   "cell_type": "code",
   "execution_count": 2,
   "metadata": {},
   "outputs": [],
   "source": [
    "from duckduckgo_search import DDGS\n",
    "import requests\n",
    "from bs4 import BeautifulSoup\n",
    "import subprocess"
   ]
  },
  {
   "cell_type": "markdown",
   "metadata": {},
   "source": [
    "## 1. Fazer a busca no DuckDuckGo"
   ]
  },
  {
   "cell_type": "code",
   "execution_count": 3,
   "metadata": {},
   "outputs": [],
   "source": [
    "def buscar_links(query, max_results=5):\n",
    "    with DDGS() as ddgs:\n",
    "        resultados = ddgs.text(query)\n",
    "        return [r[\"href\"] for r in resultados][:max_results]\n"
   ]
  },
  {
   "cell_type": "markdown",
   "metadata": {},
   "source": [
    "## 2. Extrair conteúdo da página"
   ]
  },
  {
   "cell_type": "code",
   "execution_count": 4,
   "metadata": {},
   "outputs": [],
   "source": [
    "def extrair_texto(url):\n",
    "    try:\n",
    "        resp = requests.get(url, timeout=10)\n",
    "        soup = BeautifulSoup(resp.content, \"html.parser\")\n",
    "        return ' '.join(p.get_text() for p in soup.find_all('p'))\n",
    "    except Exception as e:\n",
    "        return f\"[Erro ao acessar {url}: {e}]\""
   ]
  },
  {
   "cell_type": "markdown",
   "metadata": {},
   "source": [
    "## 3. Enviar para o Ollama local com o modelo llama3"
   ]
  },
  {
   "cell_type": "code",
   "execution_count": 8,
   "metadata": {},
   "outputs": [],
   "source": [
    "\n",
    "def perguntar_ollama(prompt, model=\"gemma3:12b\"):\n",
    "    process = subprocess.Popen(\n",
    "        [\"ollama\", \"run\", model],\n",
    "        stdin=subprocess.PIPE,\n",
    "        stdout=subprocess.PIPE,\n",
    "        stderr=subprocess.PIPE,\n",
    "        text=True\n",
    "    )\n",
    "    resposta, erro = process.communicate(input=prompt)\n",
    "    return resposta.strip()"
   ]
  },
  {
   "cell_type": "markdown",
   "metadata": {},
   "source": [
    "## 4. Pipeline completa"
   ]
  },
  {
   "cell_type": "code",
   "execution_count": 9,
   "metadata": {},
   "outputs": [],
   "source": [
    "def agente_viagem(query):\n",
    "    print(f\"🔍 Buscando por: {query}\")\n",
    "    links = buscar_links(query)\n",
    "    print(f\"🔗 Links encontrados: {links}\\n\")\n",
    "\n",
    "    textos = [extrair_texto(link) for link in links]\n",
    "    texto_compilado = '\\n\\n'.join(textos[:3])  # limite para não sobrecarregar\n",
    "\n",
    "    prompt = (\n",
    "        f\"Considere o texto a seguir com informações sobre viagens para '{query}':\\n\\n\"\n",
    "        f\"{texto_compilado}\\n\\n\"\n",
    "        \"Faça um resumo dos melhores destinos e compare preços, se possível.\"\n",
    "    )\n",
    "\n",
    "    resposta = perguntar_ollama(prompt)\n",
    "    print(f\"\\n🧠 Resumo do modelo:\\n{resposta}\")"
   ]
  },
  {
   "cell_type": "code",
   "execution_count": 10,
   "metadata": {},
   "outputs": [
    {
     "name": "stdout",
     "output_type": "stream",
     "text": [
      "🔍 Buscando por: melhores destinos para viajar saindo de Natal site: https://www.clubtravel.ie/\n",
      "🔗 Links encontrados: []\n",
      "\n",
      "\n",
      "🧠 Resumo do modelo:\n",
      "Com base no artigo do Club Travel (https://www.clubtravel.ie/melhores-destinos-para-viajar-saindo-de-natal/), aqui está um resumo dos melhores destinos para viajar saindo de Natal, com uma comparação de preços (considerando que os preços podem variar significativamente dependendo da época do ano, antecedência da reserva e promoções):\n",
      "\n",
      "**Melhores Destinos (em ordem de popularidade/interesse, segundo o artigo):**\n",
      "\n",
      "1.  **Paris, França:**\n",
      "    *   **Por que ir:** Clássico, romance, cultura, gastronomia, pontos turísticos icônicos (Torre Eiffel, Louvre, etc.).\n",
      "    *   **Preço Médio (ida e volta):** €400 - €800 (pode variar muito).\n",
      "    *   **Duração da Viagem:** Ideal para 5-7 dias.\n",
      "2.  **Roma, Itália:**\n",
      "    *   **Por que ir:** História, arte, arquitetura, comida deliciosa, Coliseu, Vaticano.\n",
      "    *   **Preço Médio (ida e volta):** €450 - €900.\n",
      "    *   **Duração da Viagem:** 5-7 dias.\n",
      "3.  **Londres, Reino Unido:**\n",
      "    *   **Por que ir:** Cultura, história, museus, teatros, compras, diversidade.\n",
      "    *   **Preço Médio (ida e volta):** €350 - €750.\n",
      "    *   **Duração da Viagem:** 5-7 dias.\n",
      "4.  **Madri, Espanha:**\n",
      "    *   **Por que ir:** Arte, cultura, vida noturna, gastronomia, parques, museus.\n",
      "    *   **Preço Médio (ida e volta):** €300 - €650.\n",
      "    *   **Duração da Viagem:** 4-6 dias.\n",
      "5.  **Lisboa, Portugal:**\n",
      "    *   **Por que ir:** História, arquitetura, fado, comida, ambiente acolhedor, custo-benefício.\n",
      "    *   **Preço Médio (ida e volta):** €250 - €550.\n",
      "    *   **Duração da Viagem:** 4-6 dias.\n",
      "6.  **Barcelona, Espanha:**\n",
      "    *   **Por que ir:** Arquitetura (Gaudí), praias, vida noturna, cultura catalã.\n",
      "    *   **Preço Médio (ida e volta):** €350 - €700.\n",
      "    *   **Duração da Viagem:** 4-6 dias.\n",
      "7.  **Amsterdã, Holanda:**\n",
      "    *   **Por que ir:** Canais, museus, cultura, bicicletas, ambiente relaxado.\n",
      "    *   **Preço Médio (ida e volta):** €400 - €800.\n",
      "    *   **Duração da Viagem:** 4-6 dias.\n",
      "8.  **Dublin, Irlanda:**\n",
      "    *   **Por que ir:** Cultura irlandesa, pubs, música, história, paisagens.\n",
      "    *   **Preço Médio (ida e volta):** €300 - €600.\n",
      "    *   **Duração da Viagem:** 4-6 dias.\n",
      "\n",
      "**Comparação de Preços (aproximada):**\n",
      "\n",
      "*   **Mais Barato:** Lisboa e Dublin (geralmente as opções mais acessíveis).\n",
      "*   **Preço Médio:** Madri, Barcelona, Londres.\n",
      "*   **Mais Caro:** Paris, Amsterdã, Roma (podem variar dependendo da época).\n",
      "\n",
      "**Observações Importantes:**\n",
      "\n",
      "*   **Preços:** Os preços listados são estimativas e podem variar drasticamente. É crucial pesquisar e comparar preços em diferentes companhias aéreas e agências de viagens.\n",
      "*   **Época do Ano:** Viajar na baixa temporada (fora dos feriados e do verão) geralmente resulta em preços mais baixos.\n",
      "*   **Antecedência:** Reservar com antecedência pode ajudar a garantir melhores tarifas.\n",
      "*   **Flexibilidade:** Ser flexível com as datas da viagem pode abrir oportunidades para encontrar ofertas.\n",
      "*   **Promoções:** Fique atento a promoções e ofertas especiais de companhias aéreas e agências de viagens.\n",
      "\n",
      "Para uma pesquisa mais precisa e atualizada, recomendo visitar o site do Club Travel e utilizar ferramentas de comparação de preços de voos.\n"
     ]
    }
   ],
   "source": [
    "agente_viagem(\"melhores destinos para viajar saindo de Natal site: https://www.clubtravel.ie/\")\n"
   ]
  }
 ],
 "metadata": {
  "kernelspec": {
   "display_name": "LLM",
   "language": "python",
   "name": "python3"
  },
  "language_info": {
   "codemirror_mode": {
    "name": "ipython",
    "version": 3
   },
   "file_extension": ".py",
   "mimetype": "text/x-python",
   "name": "python",
   "nbconvert_exporter": "python",
   "pygments_lexer": "ipython3",
   "version": "3.12.5"
  }
 },
 "nbformat": 4,
 "nbformat_minor": 2
}
