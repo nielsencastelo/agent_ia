{
 "cells": [
  {
   "cell_type": "code",
   "execution_count": null,
   "metadata": {},
   "outputs": [
    {
     "name": "stdout",
     "output_type": "stream",
     "text": [
      "Requirement already satisfied: langchain in c:\\users\\niels\\anaconda3\\envs\\llm\\lib\\site-packages (0.3.0)\n",
      "Requirement already satisfied: duckduckgo-search in c:\\users\\niels\\anaconda3\\envs\\llm\\lib\\site-packages (7.5.3)\n",
      "Requirement already satisfied: ollama in c:\\users\\niels\\anaconda3\\envs\\llm\\lib\\site-packages (0.3.3)\n",
      "Requirement already satisfied: PyYAML>=5.3 in c:\\users\\niels\\anaconda3\\envs\\llm\\lib\\site-packages (from langchain) (6.0.2)\n",
      "Requirement already satisfied: SQLAlchemy<3,>=1.4 in c:\\users\\niels\\anaconda3\\envs\\llm\\lib\\site-packages (from langchain) (2.0.35)\n",
      "Requirement already satisfied: aiohttp<4.0.0,>=3.8.3 in c:\\users\\niels\\anaconda3\\envs\\llm\\lib\\site-packages (from langchain) (3.10.6)\n",
      "Requirement already satisfied: langchain-core<0.4.0,>=0.3.0 in c:\\users\\niels\\anaconda3\\envs\\llm\\lib\\site-packages (from langchain) (0.3.5)\n",
      "Requirement already satisfied: langchain-text-splitters<0.4.0,>=0.3.0 in c:\\users\\niels\\anaconda3\\envs\\llm\\lib\\site-packages (from langchain) (0.3.0)\n",
      "Requirement already satisfied: langsmith<0.2.0,>=0.1.17 in c:\\users\\niels\\anaconda3\\envs\\llm\\lib\\site-packages (from langchain) (0.1.128)\n",
      "Requirement already satisfied: numpy<2.0.0,>=1.26.0 in c:\\users\\niels\\anaconda3\\envs\\llm\\lib\\site-packages (from langchain) (1.26.4)\n",
      "Requirement already satisfied: pydantic<3.0.0,>=2.7.4 in c:\\users\\niels\\anaconda3\\envs\\llm\\lib\\site-packages (from langchain) (2.9.2)\n",
      "Requirement already satisfied: requests<3,>=2 in c:\\users\\niels\\anaconda3\\envs\\llm\\lib\\site-packages (from langchain) (2.32.3)\n",
      "Requirement already satisfied: tenacity!=8.4.0,<9.0.0,>=8.1.0 in c:\\users\\niels\\anaconda3\\envs\\llm\\lib\\site-packages (from langchain) (8.5.0)\n",
      "Requirement already satisfied: click>=8.1.8 in c:\\users\\niels\\anaconda3\\envs\\llm\\lib\\site-packages (from duckduckgo-search) (8.1.8)\n",
      "Requirement already satisfied: primp>=0.14.0 in c:\\users\\niels\\anaconda3\\envs\\llm\\lib\\site-packages (from duckduckgo-search) (0.14.0)\n",
      "Requirement already satisfied: lxml>=5.3.0 in c:\\users\\niels\\anaconda3\\envs\\llm\\lib\\site-packages (from duckduckgo-search) (5.3.1)\n",
      "Requirement already satisfied: httpx<0.28.0,>=0.27.0 in c:\\users\\niels\\anaconda3\\envs\\llm\\lib\\site-packages (from ollama) (0.27.2)\n",
      "Requirement already satisfied: aiohappyeyeballs>=2.3.0 in c:\\users\\niels\\anaconda3\\envs\\llm\\lib\\site-packages (from aiohttp<4.0.0,>=3.8.3->langchain) (2.4.0)\n",
      "Requirement already satisfied: aiosignal>=1.1.2 in c:\\users\\niels\\anaconda3\\envs\\llm\\lib\\site-packages (from aiohttp<4.0.0,>=3.8.3->langchain) (1.3.1)\n",
      "Requirement already satisfied: attrs>=17.3.0 in c:\\users\\niels\\anaconda3\\envs\\llm\\lib\\site-packages (from aiohttp<4.0.0,>=3.8.3->langchain) (24.2.0)\n",
      "Requirement already satisfied: frozenlist>=1.1.1 in c:\\users\\niels\\anaconda3\\envs\\llm\\lib\\site-packages (from aiohttp<4.0.0,>=3.8.3->langchain) (1.4.1)\n",
      "Requirement already satisfied: multidict<7.0,>=4.5 in c:\\users\\niels\\anaconda3\\envs\\llm\\lib\\site-packages (from aiohttp<4.0.0,>=3.8.3->langchain) (6.1.0)\n",
      "Requirement already satisfied: yarl<2.0,>=1.12.0 in c:\\users\\niels\\anaconda3\\envs\\llm\\lib\\site-packages (from aiohttp<4.0.0,>=3.8.3->langchain) (1.12.1)\n",
      "Requirement already satisfied: colorama in c:\\users\\niels\\anaconda3\\envs\\llm\\lib\\site-packages (from click>=8.1.8->duckduckgo-search) (0.4.6)\n",
      "Requirement already satisfied: anyio in c:\\users\\niels\\anaconda3\\envs\\llm\\lib\\site-packages (from httpx<0.28.0,>=0.27.0->ollama) (4.6.0)\n",
      "Requirement already satisfied: certifi in c:\\users\\niels\\anaconda3\\envs\\llm\\lib\\site-packages (from httpx<0.28.0,>=0.27.0->ollama) (2024.8.30)\n",
      "Requirement already satisfied: httpcore==1.* in c:\\users\\niels\\anaconda3\\envs\\llm\\lib\\site-packages (from httpx<0.28.0,>=0.27.0->ollama) (1.0.5)\n",
      "Requirement already satisfied: idna in c:\\users\\niels\\anaconda3\\envs\\llm\\lib\\site-packages (from httpx<0.28.0,>=0.27.0->ollama) (3.10)\n",
      "Requirement already satisfied: sniffio in c:\\users\\niels\\anaconda3\\envs\\llm\\lib\\site-packages (from httpx<0.28.0,>=0.27.0->ollama) (1.3.1)\n",
      "Requirement already satisfied: h11<0.15,>=0.13 in c:\\users\\niels\\anaconda3\\envs\\llm\\lib\\site-packages (from httpcore==1.*->httpx<0.28.0,>=0.27.0->ollama) (0.14.0)\n",
      "Requirement already satisfied: jsonpatch<2.0,>=1.33 in c:\\users\\niels\\anaconda3\\envs\\llm\\lib\\site-packages (from langchain-core<0.4.0,>=0.3.0->langchain) (1.33)\n",
      "Requirement already satisfied: packaging<25,>=23.2 in c:\\users\\niels\\anaconda3\\envs\\llm\\lib\\site-packages (from langchain-core<0.4.0,>=0.3.0->langchain) (24.1)\n",
      "Requirement already satisfied: typing-extensions>=4.7 in c:\\users\\niels\\anaconda3\\envs\\llm\\lib\\site-packages (from langchain-core<0.4.0,>=0.3.0->langchain) (4.12.2)\n",
      "Requirement already satisfied: orjson<4.0.0,>=3.9.14 in c:\\users\\niels\\anaconda3\\envs\\llm\\lib\\site-packages (from langsmith<0.2.0,>=0.1.17->langchain) (3.10.7)\n",
      "Requirement already satisfied: annotated-types>=0.6.0 in c:\\users\\niels\\anaconda3\\envs\\llm\\lib\\site-packages (from pydantic<3.0.0,>=2.7.4->langchain) (0.7.0)\n",
      "Requirement already satisfied: pydantic-core==2.23.4 in c:\\users\\niels\\anaconda3\\envs\\llm\\lib\\site-packages (from pydantic<3.0.0,>=2.7.4->langchain) (2.23.4)\n",
      "Requirement already satisfied: charset-normalizer<4,>=2 in c:\\users\\niels\\anaconda3\\envs\\llm\\lib\\site-packages (from requests<3,>=2->langchain) (3.3.2)\n",
      "Requirement already satisfied: urllib3<3,>=1.21.1 in c:\\users\\niels\\anaconda3\\envs\\llm\\lib\\site-packages (from requests<3,>=2->langchain) (2.2.3)\n",
      "Requirement already satisfied: greenlet!=0.4.17 in c:\\users\\niels\\anaconda3\\envs\\llm\\lib\\site-packages (from SQLAlchemy<3,>=1.4->langchain) (3.1.1)\n",
      "Requirement already satisfied: jsonpointer>=1.9 in c:\\users\\niels\\anaconda3\\envs\\llm\\lib\\site-packages (from jsonpatch<2.0,>=1.33->langchain-core<0.4.0,>=0.3.0->langchain) (3.0.0)\n"
     ]
    }
   ],
   "source": [
    "# ! pip install duckduckgo-search beautifulsoup4 requests\n",
    "# ! pip install langchain duckduckgo-search ollama\n"
   ]
  },
  {
   "cell_type": "code",
   "execution_count": 2,
   "metadata": {},
   "outputs": [],
   "source": [
    "from duckduckgo_search import DDGS\n",
    "import requests\n",
    "from bs4 import BeautifulSoup\n",
    "import subprocess"
   ]
  },
  {
   "cell_type": "code",
   "execution_count": null,
   "metadata": {},
   "outputs": [],
   "source": [
    "# 1. Fazer a busca no DuckDuckGo\n",
    "def buscar_links(query, max_results=5):\n",
    "    with DDGS() as ddgs:\n",
    "        resultados = ddgs.text(query)\n",
    "        return [r[\"href\"] for r in resultados][:max_results]\n",
    "\n",
    "# 2. Extrair conteúdo da página\n",
    "def extrair_texto(url):\n",
    "    try:\n",
    "        resp = requests.get(url, timeout=10)\n",
    "        soup = BeautifulSoup(resp.content, \"html.parser\")\n",
    "        return ' '.join(p.get_text() for p in soup.find_all('p'))\n",
    "    except Exception as e:\n",
    "        return f\"[Erro ao acessar {url}: {e}]\"\n",
    "\n",
    "# 3. Enviar para o Ollama local com o modelo llama3\n",
    "def perguntar_ollama(prompt, model=\"llama3.2\"):\n",
    "    process = subprocess.Popen(\n",
    "        [\"ollama\", \"run\", model],\n",
    "        stdin=subprocess.PIPE,\n",
    "        stdout=subprocess.PIPE,\n",
    "        stderr=subprocess.PIPE,\n",
    "        text=True\n",
    "    )\n",
    "    resposta, erro = process.communicate(input=prompt)\n",
    "    return resposta.strip()\n",
    "\n",
    "# 4. Pipeline completa\n",
    "def agente_viagem(query):\n",
    "    print(f\"🔍 Buscando por: {query}\")\n",
    "    links = buscar_links(query)\n",
    "    print(f\"🔗 Links encontrados: {links}\\n\")\n",
    "\n",
    "    textos = [extrair_texto(link) for link in links]\n",
    "    texto_compilado = '\\n\\n'.join(textos[:3])  # limite para não sobrecarregar\n",
    "\n",
    "    prompt = (\n",
    "        f\"Considere o texto a seguir com informações sobre viagens para '{query}':\\n\\n\"\n",
    "        f\"{texto_compilado}\\n\\n\"\n",
    "        \"Faça um resumo dos melhores destinos e compare preços, se possível.\"\n",
    "    )\n",
    "\n",
    "    resposta = perguntar_ollama(prompt)\n",
    "    print(f\"\\n🧠 Resumo do modelo:\\n{resposta}\")\n"
   ]
  },
  {
   "cell_type": "code",
   "execution_count": 5,
   "metadata": {},
   "outputs": [
    {
     "name": "stdout",
     "output_type": "stream",
     "text": [
      "🔍 Buscando por: melhores destinos para viajar saindo de Natal site: https://www.clubtravel.ie/\n",
      "🔗 Links encontrados: []\n",
      "\n",
      "\n",
      "🧠 Resumo do modelo:\n",
      "Olá! Vou fazer o resumo dos melhores destinos para viajar saindo de Natal e comparar preços com base no site Club Travel.\n",
      "\n",
      "**Melhores Destinos:**\n",
      "\n",
      "1. **Alicante (Espanha)**:\n",
      " * Tempo de voo: 3h25m\n",
      " * Clima: Quente e soleiro\n",
      " * Atrações: Praias, cidade histórica, montanhas\n",
      "2. **Nice (França)**:\n",
      " * Tempo de voo: 2h30m\n",
      " * Clima: Misto (verão quente, inverno frio)\n",
      " * Atrações: Praia de Nice, Catedral de São Renato, Mercado de Ópera\n",
      "3. **Amsterdã (Holanda)**:\n",
      " * Tempo de voo: 1h45m\n",
      " * Clima: Misto (verão quente, inverno frio)\n",
      " * Atrações: Canais, Rijksmuseum, Varsaviana\n",
      "4. **Lisboa (Portugal)**:\n",
      " * Tempo de voo: 2h50m\n",
      " * Clima: Quente e soleiro\n",
      " * Atrações: Praia da Bela Vista, Castelo de São Jorge, Mosteiro dos Jerónimos\n",
      "5. **Barcelona (Espanha)**:\n",
      " * Tempo de voo: 2h30m\n",
      " * Clima: Quente e soleiro\n",
      " * Atrações: La Rambla, Barceloneta, Sagrada Família\n",
      "\n",
      "**Preços:**\n",
      "\n",
      "Aqui estão os preços aproximados para uma passagem aérea de ida e volta dos destinos mencionados anteriormente:\n",
      "\n",
      "* Alicante (Espanha): € 200-€ 400\n",
      "* Nice (França): € 250-€ 450\n",
      "* Amsterdã (Holanda): € 300-€ 500\n",
      "* Lisboa (Portugal): € 220-€ 380\n",
      "* Barcelona (Espanha): € 240-€ 420\n",
      "\n",
      "**Observações:**\n",
      "\n",
      "* Os preços podem variar dependendo da época do ano e da disponibilidade.\n",
      "* É importante verificar os preços com antecedência para encontrar as melhores ofertas.\n",
      "* O site Club Travel oferece promoções e descontos em alguns destinos, como Alicante e Lisboa.\n",
      "\n",
      "Espero que isso tenha ajudado! Se tiver alguma dúvida ou precisar de mais informações, sinta-se à vontade para perguntar.\n"
     ]
    }
   ],
   "source": [
    "agente_viagem(\"melhores destinos para viajar saindo de Natal site: https://www.clubtravel.ie/\")\n"
   ]
  }
 ],
 "metadata": {
  "kernelspec": {
   "display_name": "LLM",
   "language": "python",
   "name": "python3"
  },
  "language_info": {
   "codemirror_mode": {
    "name": "ipython",
    "version": 3
   },
   "file_extension": ".py",
   "mimetype": "text/x-python",
   "name": "python",
   "nbconvert_exporter": "python",
   "pygments_lexer": "ipython3",
   "version": "3.12.5"
  }
 },
 "nbformat": 4,
 "nbformat_minor": 2
}
